{
 "cells": [
  {
   "cell_type": "markdown",
   "metadata": {},
   "source": [
    "# Gesture Recognition"
   ]
  },
  {
   "cell_type": "code",
   "execution_count": 1,
   "metadata": {},
   "outputs": [
    {
     "data": {
      "text/html": [
       "<style>.container { width:100% !important; }</style>"
      ],
      "text/plain": [
       "<IPython.core.display.HTML object>"
      ]
     },
     "metadata": {},
     "output_type": "display_data"
    }
   ],
   "source": [
    "# Increase notebook width\n",
    "from IPython.display import display, HTML\n",
    "display(HTML(\"<style>.container { width:100% !important; }</style>\"))"
   ]
  },
  {
   "cell_type": "code",
   "execution_count": 2,
   "metadata": {},
   "outputs": [
    {
     "name": "stdout",
     "output_type": "stream",
     "text": [
      "Requirement already satisfied: pip in /Users/nagavi@F-Secure.com/anaconda3/lib/python3.11/site-packages (23.3.2)\r\n"
     ]
    }
   ],
   "source": [
    "!pip install --upgrade pip"
   ]
  },
  {
   "cell_type": "code",
   "execution_count": 3,
   "metadata": {
    "scrolled": true
   },
   "outputs": [
    {
     "name": "stdout",
     "output_type": "stream",
     "text": [
      "Requirement already satisfied: visualkeras in /Users/nagavi@F-Secure.com/anaconda3/lib/python3.11/site-packages (0.0.2)\n",
      "Requirement already satisfied: pillow>=6.2.0 in /Users/nagavi@F-Secure.com/anaconda3/lib/python3.11/site-packages (from visualkeras) (9.5.0)\n",
      "Requirement already satisfied: numpy>=1.18.1 in /Users/nagavi@F-Secure.com/anaconda3/lib/python3.11/site-packages (from visualkeras) (1.24.3)\n",
      "Requirement already satisfied: aggdraw>=1.3.11 in /Users/nagavi@F-Secure.com/anaconda3/lib/python3.11/site-packages (from visualkeras) (1.3.18)\n"
     ]
    }
   ],
   "source": [
    "!pip install visualkeras"
   ]
  },
  {
   "cell_type": "code",
   "execution_count": 4,
   "metadata": {},
   "outputs": [
    {
     "name": "stdout",
     "output_type": "stream",
     "text": [
      "Requirement already satisfied: pillow==9.5 in /Users/nagavi@F-Secure.com/anaconda3/lib/python3.11/site-packages (9.5.0)\r\n"
     ]
    }
   ],
   "source": [
    "!pip install pillow==9.5 # Any version above 9.5 for pillow results in exception during model visualization"
   ]
  },
  {
   "cell_type": "code",
   "execution_count": 5,
   "metadata": {},
   "outputs": [
    {
     "name": "stdout",
     "output_type": "stream",
     "text": [
      "Requirement already satisfied: tensorflow in /Users/nagavi@F-Secure.com/anaconda3/lib/python3.11/site-packages (2.15.0)\n",
      "Requirement already satisfied: tensorflow-macos==2.15.0 in /Users/nagavi@F-Secure.com/anaconda3/lib/python3.11/site-packages (from tensorflow) (2.15.0)\n",
      "Requirement already satisfied: absl-py>=1.0.0 in /Users/nagavi@F-Secure.com/anaconda3/lib/python3.11/site-packages (from tensorflow-macos==2.15.0->tensorflow) (2.0.0)\n",
      "Requirement already satisfied: astunparse>=1.6.0 in /Users/nagavi@F-Secure.com/anaconda3/lib/python3.11/site-packages (from tensorflow-macos==2.15.0->tensorflow) (1.6.3)\n",
      "Requirement already satisfied: flatbuffers>=23.5.26 in /Users/nagavi@F-Secure.com/anaconda3/lib/python3.11/site-packages (from tensorflow-macos==2.15.0->tensorflow) (23.5.26)\n",
      "Requirement already satisfied: gast!=0.5.0,!=0.5.1,!=0.5.2,>=0.2.1 in /Users/nagavi@F-Secure.com/anaconda3/lib/python3.11/site-packages (from tensorflow-macos==2.15.0->tensorflow) (0.5.4)\n",
      "Requirement already satisfied: google-pasta>=0.1.1 in /Users/nagavi@F-Secure.com/anaconda3/lib/python3.11/site-packages (from tensorflow-macos==2.15.0->tensorflow) (0.2.0)\n",
      "Requirement already satisfied: h5py>=2.9.0 in /Users/nagavi@F-Secure.com/anaconda3/lib/python3.11/site-packages (from tensorflow-macos==2.15.0->tensorflow) (3.9.0)\n",
      "Requirement already satisfied: libclang>=13.0.0 in /Users/nagavi@F-Secure.com/anaconda3/lib/python3.11/site-packages (from tensorflow-macos==2.15.0->tensorflow) (16.0.6)\n",
      "Requirement already satisfied: ml-dtypes~=0.2.0 in /Users/nagavi@F-Secure.com/anaconda3/lib/python3.11/site-packages (from tensorflow-macos==2.15.0->tensorflow) (0.2.0)\n",
      "Requirement already satisfied: numpy<2.0.0,>=1.23.5 in /Users/nagavi@F-Secure.com/anaconda3/lib/python3.11/site-packages (from tensorflow-macos==2.15.0->tensorflow) (1.24.3)\n",
      "Requirement already satisfied: opt-einsum>=2.3.2 in /Users/nagavi@F-Secure.com/anaconda3/lib/python3.11/site-packages (from tensorflow-macos==2.15.0->tensorflow) (3.3.0)\n",
      "Requirement already satisfied: packaging in /Users/nagavi@F-Secure.com/anaconda3/lib/python3.11/site-packages (from tensorflow-macos==2.15.0->tensorflow) (23.1)\n",
      "Requirement already satisfied: protobuf!=4.21.0,!=4.21.1,!=4.21.2,!=4.21.3,!=4.21.4,!=4.21.5,<5.0.0dev,>=3.20.3 in /Users/nagavi@F-Secure.com/anaconda3/lib/python3.11/site-packages (from tensorflow-macos==2.15.0->tensorflow) (4.23.4)\n",
      "Requirement already satisfied: setuptools in /Users/nagavi@F-Secure.com/anaconda3/lib/python3.11/site-packages (from tensorflow-macos==2.15.0->tensorflow) (68.0.0)\n",
      "Requirement already satisfied: six>=1.12.0 in /Users/nagavi@F-Secure.com/anaconda3/lib/python3.11/site-packages (from tensorflow-macos==2.15.0->tensorflow) (1.16.0)\n",
      "Requirement already satisfied: termcolor>=1.1.0 in /Users/nagavi@F-Secure.com/anaconda3/lib/python3.11/site-packages (from tensorflow-macos==2.15.0->tensorflow) (2.4.0)\n",
      "Requirement already satisfied: typing-extensions>=3.6.6 in /Users/nagavi@F-Secure.com/anaconda3/lib/python3.11/site-packages (from tensorflow-macos==2.15.0->tensorflow) (4.7.1)\n",
      "Requirement already satisfied: wrapt<1.15,>=1.11.0 in /Users/nagavi@F-Secure.com/anaconda3/lib/python3.11/site-packages (from tensorflow-macos==2.15.0->tensorflow) (1.14.1)\n",
      "Requirement already satisfied: tensorflow-io-gcs-filesystem>=0.23.1 in /Users/nagavi@F-Secure.com/anaconda3/lib/python3.11/site-packages (from tensorflow-macos==2.15.0->tensorflow) (0.34.0)\n",
      "Requirement already satisfied: grpcio<2.0,>=1.24.3 in /Users/nagavi@F-Secure.com/anaconda3/lib/python3.11/site-packages (from tensorflow-macos==2.15.0->tensorflow) (1.60.0)\n",
      "Requirement already satisfied: tensorboard<2.16,>=2.15 in /Users/nagavi@F-Secure.com/anaconda3/lib/python3.11/site-packages (from tensorflow-macos==2.15.0->tensorflow) (2.15.1)\n",
      "Requirement already satisfied: tensorflow-estimator<2.16,>=2.15.0 in /Users/nagavi@F-Secure.com/anaconda3/lib/python3.11/site-packages (from tensorflow-macos==2.15.0->tensorflow) (2.15.0)\n",
      "Requirement already satisfied: keras<2.16,>=2.15.0 in /Users/nagavi@F-Secure.com/anaconda3/lib/python3.11/site-packages (from tensorflow-macos==2.15.0->tensorflow) (2.15.0)\n",
      "Requirement already satisfied: wheel<1.0,>=0.23.0 in /Users/nagavi@F-Secure.com/anaconda3/lib/python3.11/site-packages (from astunparse>=1.6.0->tensorflow-macos==2.15.0->tensorflow) (0.38.4)\n",
      "Requirement already satisfied: google-auth<3,>=1.6.3 in /Users/nagavi@F-Secure.com/anaconda3/lib/python3.11/site-packages (from tensorboard<2.16,>=2.15->tensorflow-macos==2.15.0->tensorflow) (2.25.2)\n",
      "Requirement already satisfied: google-auth-oauthlib<2,>=0.5 in /Users/nagavi@F-Secure.com/anaconda3/lib/python3.11/site-packages (from tensorboard<2.16,>=2.15->tensorflow-macos==2.15.0->tensorflow) (1.2.0)\n",
      "Requirement already satisfied: markdown>=2.6.8 in /Users/nagavi@F-Secure.com/anaconda3/lib/python3.11/site-packages (from tensorboard<2.16,>=2.15->tensorflow-macos==2.15.0->tensorflow) (3.4.1)\n",
      "Requirement already satisfied: requests<3,>=2.21.0 in /Users/nagavi@F-Secure.com/anaconda3/lib/python3.11/site-packages (from tensorboard<2.16,>=2.15->tensorflow-macos==2.15.0->tensorflow) (2.31.0)\n",
      "Requirement already satisfied: tensorboard-data-server<0.8.0,>=0.7.0 in /Users/nagavi@F-Secure.com/anaconda3/lib/python3.11/site-packages (from tensorboard<2.16,>=2.15->tensorflow-macos==2.15.0->tensorflow) (0.7.2)\n",
      "Requirement already satisfied: werkzeug>=1.0.1 in /Users/nagavi@F-Secure.com/anaconda3/lib/python3.11/site-packages (from tensorboard<2.16,>=2.15->tensorflow-macos==2.15.0->tensorflow) (2.2.3)\n",
      "Requirement already satisfied: cachetools<6.0,>=2.0.0 in /Users/nagavi@F-Secure.com/anaconda3/lib/python3.11/site-packages (from google-auth<3,>=1.6.3->tensorboard<2.16,>=2.15->tensorflow-macos==2.15.0->tensorflow) (5.3.2)\n",
      "Requirement already satisfied: pyasn1-modules>=0.2.1 in /Users/nagavi@F-Secure.com/anaconda3/lib/python3.11/site-packages (from google-auth<3,>=1.6.3->tensorboard<2.16,>=2.15->tensorflow-macos==2.15.0->tensorflow) (0.2.8)\n",
      "Requirement already satisfied: rsa<5,>=3.1.4 in /Users/nagavi@F-Secure.com/anaconda3/lib/python3.11/site-packages (from google-auth<3,>=1.6.3->tensorboard<2.16,>=2.15->tensorflow-macos==2.15.0->tensorflow) (4.9)\n",
      "Requirement already satisfied: requests-oauthlib>=0.7.0 in /Users/nagavi@F-Secure.com/anaconda3/lib/python3.11/site-packages (from google-auth-oauthlib<2,>=0.5->tensorboard<2.16,>=2.15->tensorflow-macos==2.15.0->tensorflow) (1.3.1)\n",
      "Requirement already satisfied: charset-normalizer<4,>=2 in /Users/nagavi@F-Secure.com/anaconda3/lib/python3.11/site-packages (from requests<3,>=2.21.0->tensorboard<2.16,>=2.15->tensorflow-macos==2.15.0->tensorflow) (2.0.4)\n",
      "Requirement already satisfied: idna<4,>=2.5 in /Users/nagavi@F-Secure.com/anaconda3/lib/python3.11/site-packages (from requests<3,>=2.21.0->tensorboard<2.16,>=2.15->tensorflow-macos==2.15.0->tensorflow) (3.4)\n",
      "Requirement already satisfied: urllib3<3,>=1.21.1 in /Users/nagavi@F-Secure.com/anaconda3/lib/python3.11/site-packages (from requests<3,>=2.21.0->tensorboard<2.16,>=2.15->tensorflow-macos==2.15.0->tensorflow) (1.26.16)\n",
      "Requirement already satisfied: certifi>=2017.4.17 in /Users/nagavi@F-Secure.com/anaconda3/lib/python3.11/site-packages (from requests<3,>=2.21.0->tensorboard<2.16,>=2.15->tensorflow-macos==2.15.0->tensorflow) (2023.11.17)\n",
      "Requirement already satisfied: MarkupSafe>=2.1.1 in /Users/nagavi@F-Secure.com/anaconda3/lib/python3.11/site-packages (from werkzeug>=1.0.1->tensorboard<2.16,>=2.15->tensorflow-macos==2.15.0->tensorflow) (2.1.1)\n",
      "Requirement already satisfied: pyasn1<0.5.0,>=0.4.6 in /Users/nagavi@F-Secure.com/anaconda3/lib/python3.11/site-packages (from pyasn1-modules>=0.2.1->google-auth<3,>=1.6.3->tensorboard<2.16,>=2.15->tensorflow-macos==2.15.0->tensorflow) (0.4.8)\n",
      "Requirement already satisfied: oauthlib>=3.0.0 in /Users/nagavi@F-Secure.com/anaconda3/lib/python3.11/site-packages (from requests-oauthlib>=0.7.0->google-auth-oauthlib<2,>=0.5->tensorboard<2.16,>=2.15->tensorflow-macos==2.15.0->tensorflow) (3.2.2)\n"
     ]
    }
   ],
   "source": [
    "!pip install tensorflow"
   ]
  },
  {
   "cell_type": "code",
   "execution_count": 6,
   "metadata": {
    "scrolled": true
   },
   "outputs": [
    {
     "name": "stdout",
     "output_type": "stream",
     "text": [
      "Requirement already satisfied: Openpyxl in /Users/nagavi@F-Secure.com/anaconda3/lib/python3.11/site-packages (3.0.10)\r\n",
      "Requirement already satisfied: et_xmlfile in /Users/nagavi@F-Secure.com/anaconda3/lib/python3.11/site-packages (from Openpyxl) (1.1.0)\r\n"
     ]
    }
   ],
   "source": [
    "!pip install Openpyxl"
   ]
  },
  {
   "cell_type": "code",
   "execution_count": 7,
   "metadata": {},
   "outputs": [
    {
     "name": "stdout",
     "output_type": "stream",
     "text": [
      "Requirement already satisfied: texttable in /Users/nagavi@F-Secure.com/anaconda3/lib/python3.11/site-packages (1.7.0)\r\n"
     ]
    }
   ],
   "source": [
    "!pip install texttable"
   ]
  },
  {
   "cell_type": "code",
   "execution_count": 8,
   "metadata": {},
   "outputs": [
    {
     "name": "stdout",
     "output_type": "stream",
     "text": [
      "Requirement already satisfied: matplotlib in /Users/nagavi@F-Secure.com/anaconda3/lib/python3.11/site-packages (3.7.2)\n",
      "Requirement already satisfied: contourpy>=1.0.1 in /Users/nagavi@F-Secure.com/anaconda3/lib/python3.11/site-packages (from matplotlib) (1.0.5)\n",
      "Requirement already satisfied: cycler>=0.10 in /Users/nagavi@F-Secure.com/anaconda3/lib/python3.11/site-packages (from matplotlib) (0.11.0)\n",
      "Requirement already satisfied: fonttools>=4.22.0 in /Users/nagavi@F-Secure.com/anaconda3/lib/python3.11/site-packages (from matplotlib) (4.25.0)\n",
      "Requirement already satisfied: kiwisolver>=1.0.1 in /Users/nagavi@F-Secure.com/anaconda3/lib/python3.11/site-packages (from matplotlib) (1.4.4)\n",
      "Requirement already satisfied: numpy>=1.20 in /Users/nagavi@F-Secure.com/anaconda3/lib/python3.11/site-packages (from matplotlib) (1.24.3)\n",
      "Requirement already satisfied: packaging>=20.0 in /Users/nagavi@F-Secure.com/anaconda3/lib/python3.11/site-packages (from matplotlib) (23.1)\n",
      "Requirement already satisfied: pillow>=6.2.0 in /Users/nagavi@F-Secure.com/anaconda3/lib/python3.11/site-packages (from matplotlib) (9.5.0)\n",
      "Requirement already satisfied: pyparsing<3.1,>=2.3.1 in /Users/nagavi@F-Secure.com/anaconda3/lib/python3.11/site-packages (from matplotlib) (3.0.9)\n",
      "Requirement already satisfied: python-dateutil>=2.7 in /Users/nagavi@F-Secure.com/anaconda3/lib/python3.11/site-packages (from matplotlib) (2.8.2)\n",
      "Requirement already satisfied: six>=1.5 in /Users/nagavi@F-Secure.com/anaconda3/lib/python3.11/site-packages (from python-dateutil>=2.7->matplotlib) (1.16.0)\n"
     ]
    }
   ],
   "source": [
    "!pip install matplotlib"
   ]
  },
  {
   "cell_type": "code",
   "execution_count": 9,
   "metadata": {},
   "outputs": [
    {
     "name": "stdout",
     "output_type": "stream",
     "text": [
      "Requirement already satisfied: pydot in /Users/nagavi@F-Secure.com/anaconda3/lib/python3.11/site-packages (1.4.2)\r\n",
      "Requirement already satisfied: pyparsing>=2.1.4 in /Users/nagavi@F-Secure.com/anaconda3/lib/python3.11/site-packages (from pydot) (3.0.9)\r\n"
     ]
    }
   ],
   "source": [
    "!pip install pydot"
   ]
  },
  {
   "cell_type": "code",
   "execution_count": 10,
   "metadata": {},
   "outputs": [
    {
     "name": "stdout",
     "output_type": "stream",
     "text": [
      "Requirement already satisfied: graphviz in /Users/nagavi@F-Secure.com/anaconda3/lib/python3.11/site-packages (0.20.1)\r\n"
     ]
    }
   ],
   "source": [
    "!pip install graphviz"
   ]
  },
  {
   "cell_type": "code",
   "execution_count": 11,
   "metadata": {},
   "outputs": [],
   "source": [
    "import numpy as np\n",
    "import os\n",
    "import datetime\n",
    "import os\n",
    "import random as rn\n",
    "import matplotlib.pyplot as plt\n",
    "import imageio\n",
    "from skimage.transform import resize, rescale\n",
    "import visualkeras\n",
    "from visualkeras import Layer\n",
    "from PIL import Image, ImageFont\n",
    "\n",
    "import tensorflow as tf\n",
    "from tensorflow.keras import layers\n",
    "from keras import callbacks\n",
    "from keras.models import Sequential, Model\n",
    "from keras.layers import Dense, Dropout, GRU, LSTM, Flatten, TimeDistributed, Flatten, BatchNormalization, Activation\n",
    "from keras.layers import Conv3D, MaxPooling3D, Conv2D, MaxPooling2D, GlobalAveragePooling3D, GlobalAveragePooling2D\n",
    "from keras.layers import ConvLSTM2D\n",
    "from keras.callbacks import ModelCheckpoint, ReduceLROnPlateau\n",
    "from keras.regularizers import l2\n",
    "from keras import optimizers\n",
    "from keras.applications import mobilenet\n",
    "from keras.preprocessing.image import ImageDataGenerator\n",
    "from tensorflow.keras.utils import plot_model\n",
    "from keras import backend as K\n",
    "import warnings\n",
    "warnings.filterwarnings('ignore')\n",
    "\n",
    "\n",
    "import openpyxl\n",
    "from openpyxl.styles import Font\n",
    "\n",
    "from texttable import Texttable"
   ]
  },
  {
   "cell_type": "markdown",
   "metadata": {},
   "source": [
    "We set the random seed so that the results don't vary drastically."
   ]
  },
  {
   "cell_type": "code",
   "execution_count": 12,
   "metadata": {},
   "outputs": [],
   "source": [
    "np.random.seed(30)\n",
    "rn.seed(30)\n",
    "tf.random.set_seed(30)"
   ]
  },
  {
   "cell_type": "markdown",
   "metadata": {},
   "source": [
    "### Check if GPU is available"
   ]
  },
  {
   "cell_type": "code",
   "execution_count": 3,
   "metadata": {},
   "outputs": [
    {
     "name": "stdout",
     "output_type": "stream",
     "text": [
      "Found GPU at: /device:GPU:0\n"
     ]
    },
    {
     "name": "stderr",
     "output_type": "stream",
     "text": [
      "2024-01-09 04:54:08.034468: W tensorflow/core/common_runtime/gpu/gpu_bfc_allocator.cc:39] Overriding allow_growth setting because the TF_FORCE_GPU_ALLOW_GROWTH environment variable is set. Original config value was 0.\n",
      "2024-01-09 04:54:08.034528: I tensorflow/core/common_runtime/gpu/gpu_device.cc:1525] Created device /device:GPU:0 with 14800 MB memory:  -> device: 0, name: Quadro RTX 5000, pci bus id: 0000:1c:00.0, compute capability: 7.5\n"
     ]
    }
   ],
   "source": [
    "# tf.test.is_gpu_available()\n",
    "device_name = tf.test.gpu_device_name()\n",
    "if \"GPU\" not in device_name:\n",
    "    print(\"GPU device not found\")\n",
    "else:\n",
    "    print('Found GPU at: {}'.format(device_name))"
   ]
  },
  {
   "cell_type": "markdown",
   "metadata": {},
   "source": [
    "### Check TensorFlow version"
   ]
  },
  {
   "cell_type": "code",
   "execution_count": 4,
   "metadata": {},
   "outputs": [
    {
     "data": {
      "text/plain": [
       "'2.7.0'"
      ]
     },
     "execution_count": 4,
     "metadata": {},
     "output_type": "execute_result"
    }
   ],
   "source": [
    "tf.version.VERSION"
   ]
  },
  {
   "cell_type": "code",
   "execution_count": 13,
   "metadata": {},
   "outputs": [],
   "source": [
    "# Ensure that the araial font file \"Arial.ttf\" is present in the location of this notebook. Link to file: https://github.com/techexorcist/gesture-recognition-deep-learning/blob/master/Arial.ttf\n",
    "font = ImageFont.truetype(\"Arial.ttf\", 70, encoding=\"unic\")"
   ]
  },
  {
   "cell_type": "markdown",
   "metadata": {},
   "source": [
    "In this block, you read the folder names for training and validation. You also set the `batch_size` here. Note that you set the batch size in such a way that you are able to use the GPU in full capacity. You keep increasing the batch size until the machine throws an error."
   ]
  },
  {
   "cell_type": "code",
   "execution_count": 18,
   "metadata": {},
   "outputs": [],
   "source": [
    "# Number of output classes (Number of hand gestures considered)\n",
    "num_classes = 5\n",
    "\n",
    "# Default height of the image for the experiment\n",
    "default_image_height = 120\n",
    "\n",
    "# Default width of the image for the experiment\n",
    "default_image_width = 120\n",
    "\n",
    "# Default frame count for the experiment (Video has 30 frames)\n",
    "default_frames_count = 30\n",
    "\n",
    "# Default image count to be considered for the each model\n",
    "default_num_images = 20\n",
    "\n",
    "# Default value to indicate if augmentation is necessary for the model\n",
    "default_perform_augment = False\n",
    "\n",
    "# Default number of epoch\n",
    "default_num_epochs = 30\n",
    "\n",
    "# Default kernel size\n",
    "default_kernel_size = (3,3,3)\n",
    "\n",
    "# Default kernel size - CONV2D\n",
    "default_kernel_size_conv2d = (3,3)\n",
    "\n",
    "# Default pooling size\n",
    "default_pool_size = (2,2,2)\n",
    "\n",
    "# Default pooling size - CONV2D\n",
    "default_pool_size_conv2d = (2,2)\n",
    "\n",
    "# Default padding type\n",
    "default_padding_type = \"same\"\n",
    "\n",
    "# Default non-output layer activation function\n",
    "default_layer_activation_func = \"relu\"\n",
    "\n",
    "# Default output layer activation function\n",
    "default_output_layer_activation_func = \"softmax\"\n",
    "\n",
    "# Default model stride\n",
    "default_stride = (1,1,1)\n",
    "\n",
    "# Default model stride - CONV2D\n",
    "default_stride_conv2d = (1,1)\n",
    "\n",
    "# Default dropout value\n",
    "default_dropout_value = 0.0\n",
    "\n",
    "# Default hidden layer count\n",
    "default_hidden_layer_count = 3\n",
    "\n",
    "# Default hidden layer count - CONV2D\n",
    "default_hidden_layer_count_conv2d = 4\n",
    "\n",
    "# Default conv3d filters\n",
    "default_conv3d_filters = (16, 32, 64, 128)\n",
    "\n",
    "# Default conv2d filters\n",
    "default_conv2d_filters = (16, 32, 64, 128, 256)\n",
    "\n",
    "# Default dense layer count\n",
    "default_dense_layer_count = 2\n",
    "\n",
    "# Default dense layer filters\n",
    "default_dense_filters = (256,128)\n",
    "\n",
    "# Default channel value\n",
    "default_channel_value = 3\n",
    "\n",
    "# Default batch size for the experiment\n",
    "default_batch_size = 10\n",
    "\n",
    "# Default learning rate for the experiment\n",
    "default_learning_rate = 0.002\n",
    "\n",
    "# Default RNN cell count\n",
    "default_rnn_cell_count = 64\n",
    "\n",
    "# Default dense neuron count - RNN\n",
    "default_dense_neuron_count = 64\n",
    "\n",
    "# Default workbook filename\n",
    "default_workbook_file_name = r\"gesture_recognition_model_stats.xlsx\"\n",
    "\n",
    "# Default workbook worksheet name\n",
    "default_worksheet_name = \"model_details\""
   ]
  },
  {
   "cell_type": "code",
   "execution_count": 21,
   "metadata": {},
   "outputs": [],
   "source": [
    "train_doc = np.random.permutation(open(\"/datasets/Project_data/train.csv\").readlines())\n",
    "val_doc = np.random.permutation(open(\"/datasets/Project_data/val.csv\").readlines())\n",
    "batch_size = default_batch_size"
   ]
  },
  {
   "cell_type": "code",
   "execution_count": null,
   "metadata": {},
   "outputs": [],
   "source": [
    "curr_dt_time = datetime.datetime.now()\n",
    "train_path = \"/datasets/Project_data/train\"\n",
    "val_path = \"/datasets/Project_data/val\"\n",
    "num_train_sequences = len(train_doc)\n",
    "print('# training sequences =', num_train_sequences)\n",
    "num_val_sequences = len(val_doc)\n",
    "print('# validation sequences =', num_val_sequences)\n",
    "num_epochs = default_num_epochs\n",
    "print ('# epochs =', num_epochs)"
   ]
  },
  {
   "cell_type": "markdown",
   "metadata": {},
   "source": [
    "## Utility methods for the experiment"
   ]
  },
  {
   "cell_type": "markdown",
   "metadata": {},
   "source": [
    "#### Method to plot model accuracy"
   ]
  },
  {
   "cell_type": "code",
   "execution_count": 8,
   "metadata": {},
   "outputs": [],
   "source": [
    "def plot_model_accuracy(model_name, model_history):\n",
    "    plt.plot(model_history.history['categorical_accuracy'])\n",
    "    plt.plot(model_history.history['val_categorical_accuracy'])\n",
    "    plt.title(\"MODEL ACCURACY for '{}'\".format(model_name))\n",
    "    plt.ylabel('accuracy')\n",
    "    plt.xlabel('epoch')\n",
    "    plt.legend(['train', 'test'], loc='upper left')\n",
    "    plt.show()"
   ]
  },
  {
   "cell_type": "markdown",
   "metadata": {},
   "source": [
    "#### Method to plot model loss"
   ]
  },
  {
   "cell_type": "code",
   "execution_count": 9,
   "metadata": {},
   "outputs": [],
   "source": [
    "def plot_model_loss(model_name, model_history):\n",
    "    plt.plot(model_history.history['loss'])\n",
    "    plt.plot(model_history.history['val_loss'])\n",
    "    plt.title(\"MODEL LOSS for '{}'\".format(model_name))\n",
    "    plt.ylabel('loss')\n",
    "    plt.xlabel('epoch')\n",
    "    plt.legend(['train', 'test'], loc='upper left')\n",
    "    plt.show()"
   ]
  },
  {
   "cell_type": "markdown",
   "metadata": {},
   "source": [
    "#### Method to configure callbacks"
   ]
  },
  {
   "cell_type": "code",
   "execution_count": 25,
   "metadata": {},
   "outputs": [],
   "source": [
    "def initialise_model_callbacks(folder_name):\n",
    "    model_name = str(folder_name) + '_' + str(curr_dt_time).replace(' ','').replace(':','_') + '/'\n",
    "   \n",
    "    if not os.path.exists(model_name):\n",
    "        os.mkdir(model_name)\n",
    "\n",
    "    filepath = model_name + 'model-{epoch:05d}-{loss:.5f}-{categorical_accuracy:.5f}-{val_loss:.5f}-{val_categorical_accuracy:.5f}.h5'\n",
    "\n",
    "    checkpoint = ModelCheckpoint(filepath,\n",
    "                                 monitor='val_loss',\n",
    "                                 verbose=1,\n",
    "                                 save_best_only=False,\n",
    "#                                  save_best_only=True,\n",
    "                                 save_weights_only=False,\n",
    "                                 mode='auto',\n",
    "                                 period=1)\n",
    "\n",
    "    LR = ReduceLROnPlateau(monitor='val_loss',\n",
    "                           factor=0.2,\n",
    "                           patience=7,\n",
    "                           verbose=1)\n",
    "\n",
    "    earlyStopping = callbacks.EarlyStopping(monitor=\"val_loss\",\n",
    "                                            min_delta=0,\n",
    "                                            patience=7,\n",
    "                                            verbose=1)\n",
    "    \n",
    "    return [checkpoint, LR, earlyStopping]"
   ]
  },
  {
   "cell_type": "code",
   "execution_count": 26,
   "metadata": {},
   "outputs": [],
   "source": [
    "# The `steps_per_epoch` and `validation_steps` are used by `fit_generator` to decide the number of next() calls\n",
    "# it need to make.\n",
    "def calculate_steps(batch_size):\n",
    "    num_train_sequences = len(train_doc)\n",
    "    if (num_train_sequences%batch_size) == 0:\n",
    "        steps_per_epoch = num_train_sequences//batch_size\n",
    "    else:\n",
    "        steps_per_epoch = (num_train_sequences//batch_size) + 1\n",
    "\n",
    "    num_val_sequences = len(val_doc)\n",
    "    if (num_val_sequences%batch_size) == 0:\n",
    "        validation_steps = num_val_sequences//batch_size\n",
    "    else:\n",
    "        validation_steps = (num_val_sequences//batch_size) + 1\n",
    "\n",
    "    return steps_per_epoch, validation_steps"
   ]
  },
  {
   "cell_type": "code",
   "execution_count": 12,
   "metadata": {},
   "outputs": [],
   "source": [
    "# Create workbook to document model details\n",
    "from openpyxl.styles import colors\n",
    "def create_workbook():\n",
    "    workbook = openpyxl.Workbook()\n",
    "    workbook.save(default_workbook_file_name)\n",
    "    \n",
    "    workbook = openpyxl.load_workbook(default_workbook_file_name)\n",
    "    workbook[\"Sheet\"].title = default_worksheet_name\n",
    "    workbook.save(default_workbook_file_name)\n",
    "    \n",
    "    worksheet = workbook[default_worksheet_name]\n",
    "    header = (\"Model Name\", \"Model Details\", \"Total Parameters\", \"Trainable Parameters\", \"Non-Trainable Parameters\", \"Best Accuracy\",\n",
    "             \"Best Val Accuracy\", \"Best Loss\", \"Best Val Loss\", \"Kernel Size\", \"Frames Per Video\", \"Image Height\",\n",
    "             \"Image Width\", \"Epoch\", \"Batch Size\", \"Optimizer\", \"Is Augmented\", \"Learning Rate\")\n",
    "    worksheet.append(header)\n",
    "    \n",
    "    for header in worksheet[\"1:1\"]: \n",
    "        header.font = Font(color = \"2ECC71\", bold=True, size=12)\n",
    "        \n",
    "    workbook.save(default_workbook_file_name)"
   ]
  },
  {
   "cell_type": "code",
   "execution_count": 13,
   "metadata": {},
   "outputs": [],
   "source": [
    "def write_model_details_worksheet(model_name, model_details, total_params, train_params, non_train_params, best_acc,\n",
    "                                  best_val_acc, best_loss, best_val_loss, kernel_size, frames_per_video,\n",
    "                                  image_height, image_width, epoch, batch_size, optimizer, is_augment, learning_rate):\n",
    "    workbook = openpyxl.load_workbook(default_workbook_file_name)\n",
    "    worksheet = workbook[default_worksheet_name]\n",
    "    \n",
    "    new_row = (model_name, model_details, total_params, train_params, non_train_params, best_acc,\n",
    "               best_val_acc, best_loss, best_val_loss, kernel_size, frames_per_video,\n",
    "               image_height, image_width, epoch, batch_size, optimizer, is_augment, learning_rate)\n",
    "    worksheet.append(new_row)\n",
    "    \n",
    "    workbook.save(default_workbook_file_name)"
   ]
  },
  {
   "cell_type": "code",
   "execution_count": 14,
   "metadata": {},
   "outputs": [],
   "source": [
    "def read_model_worksheet_full():\n",
    "    workbook = workbook = openpyxl.load_workbook(default_workbook_file_name)\n",
    "    worksheet = workbook[default_worksheet_name]\n",
    "    \n",
    "    full_sheet_as_list = list(worksheet.values)\n",
    "    \n",
    "    workbook.close()\n",
    "    return full_sheet_as_list"
   ]
  },
  {
   "cell_type": "code",
   "execution_count": 15,
   "metadata": {},
   "outputs": [],
   "source": [
    "def print_worksheet_full():\n",
    "    table = Texttable(max_width=180)\n",
    "    table.add_rows(read_model_worksheet_full())\n",
    "    print(table.draw())"
   ]
  },
  {
   "cell_type": "code",
   "execution_count": 19,
   "metadata": {},
   "outputs": [],
   "source": [
    "create_workbook()"
   ]
  },
  {
   "cell_type": "markdown",
   "metadata": {},
   "source": [
    "## Generator\n",
    "This is one of the most important part of the code. The overall structure of the generator has been given. In the generator, you are going to preprocess the images as you have images of 2 different dimensions as well as create a batch of video frames. You have to experiment with `img_idx`, `y`,`z` and normalization such that you get high accuracy."
   ]
  },
  {
   "cell_type": "code",
   "execution_count": 19,
   "metadata": {},
   "outputs": [],
   "source": [
    "# Utility for image transformation\n",
    "image_data_generator = ImageDataGenerator(\n",
    "    zoom_range=0.1,\n",
    "    zca_whitening=True,\n",
    "    width_shift_range=0.1,\n",
    "    height_shift_range=0.1)"
   ]
  },
  {
   "cell_type": "code",
   "execution_count": 22,
   "metadata": {},
   "outputs": [],
   "source": [
    "def generate(batch_size = batch_size, num_images_per_video=default_num_images, image_height=default_image_height,\n",
    "             image_width=default_image_width, augment=default_perform_augment, is_validation=False):\n",
    "    source_path = train_path\n",
    "    folder_list = train_doc\n",
    "    \n",
    "    if is_validation:\n",
    "        source_path = val_path\n",
    "        folder_list = val_doc\n",
    "\n",
    "    while True:\n",
    "        folder_shuffle = np.random.permutation(folder_list)\n",
    "        num_batches = len(folder_shuffle)//batch_size # calculate the number of batches\n",
    "        #img_idx = sorted(rn.sample(range(0, default_frames_count), num_images_per_video)) #create a list of image numbers you want to use for a particular video\n",
    "        img_idx = np.round(np.linspace(0,default_frames_count-1,num_images_per_video)).astype(int) #create a list of image numbers you want to use for a particular video\n",
    "\n",
    "        for batch in range(num_batches): # we iterate over the number of batches\n",
    "            batch_data   = np.zeros((batch_size, num_images_per_video, image_height, image_width, default_channel_value)) # 3 is the number of channels RGB\n",
    "            batch_labels = np.zeros((batch_size, 5)) # batch_labels is the one hot representation of the output           \n",
    "\n",
    "            for folder in range(batch_size): # iterate over the batch_size\n",
    "                imgs = os.listdir(source_path+'/'+ folder_shuffle[folder + (batch*batch_size)].split(';')[0]) # read all the images in the folder\n",
    "                for idx,item in enumerate(img_idx): #  Iterate over the frames/images of a folder to read them in\n",
    "                    image = imageio.imread(source_path+'/'+ folder_shuffle[folder + (batch*batch_size)].strip().split(';')[0]+'/'+imgs[item]).astype(np.float32)\n",
    "\n",
    "                    #crop the images and resize them. Note that the images are of 2 different shape \n",
    "                    #and the conv3D will throw error if the inputs in a batch have different shapes                    \n",
    "                    h, w, c = image.shape\n",
    "                    image = resize(image, (image_height, image_width), anti_aliasing=True)\n",
    "\n",
    "                    # Randomly transform few images of few folders; note that folders are randomly shuffled in each epoch too\n",
    "                    if augment:\n",
    "                        if np.random.randn() > 0:\n",
    "                            image = image_data_generator.random_transform(image)                   \n",
    "\n",
    "                    batch_data[folder,idx,:,:,0] = (image[...,0])/255 #normalise and feed in the image\n",
    "                    batch_data[folder,idx,:,:,1] = (image[...,1])/255 #normalise and feed in the image\n",
    "                    batch_data[folder,idx,:,:,2] = (image[...,2])/255 #normalise and feed in the image                  \n",
    "                    \n",
    "                batch_labels[folder, int(folder_shuffle[folder + (batch*batch_size)].strip().split(';')[2])] = 1\n",
    "\n",
    "            yield batch_data, batch_labels #you yield the batch_data and the batch_labels, remember what does yield do\n",
    "        \n",
    "        # write the code for the remaining data points which are left after full batches\n",
    "        if (len(folder_shuffle)%batch_size):\n",
    "            remaining_batch_size = len(folder_shuffle)%batch_size\n",
    "            batch_data   = np.zeros((remaining_batch_size, num_images_per_video, image_height, image_width,3)) # 3 is the number of channels RGB\n",
    "            batch_labels = np.zeros((remaining_batch_size,5)) # batch_labels is the one hot representation of the output           \n",
    "\n",
    "            for folder in range(remaining_batch_size): # iterate over the batch_size\n",
    "                imgs = os.listdir(source_path+'/'+ folder_shuffle[folder + (num_batches*batch_size)].split(';')[0]) # read all the images in the folder\n",
    "                for idx,item in enumerate(img_idx): #  Iterate iver the frames/images of a folder to read them in\n",
    "                    image = imageio.imread(source_path+'/'+ folder_shuffle[folder + (num_batches*batch_size)].strip().split(';')[0]+'/'+imgs[item]).astype(np.float32)\n",
    "                \n",
    "                    #crop the images and resize them. Note that the images are of 2 different shape \n",
    "                    #and the conv3D will throw error if the inputs in a batch have different shapes\n",
    "                    h, w, c = image.shape\n",
    "                    image = resize(image, (image_height, image_width), anti_aliasing=True)                          \n",
    "                    \n",
    "                    # Randomly transform few images of few folders; note that folders are randomly shuffled in each epoch too\n",
    "                    if augment:\n",
    "                        if np.random.randn() > 0:\n",
    "                            image = image_data_generator.random_transform(image)                   \n",
    "\n",
    "                    batch_data[folder,idx,:,:,0] = (image[...,0])/255 #normalise and feed in the image\n",
    "                    batch_data[folder,idx,:,:,1] = (image[...,1])/255 #normalise and feed in the image\n",
    "                    batch_data[folder,idx,:,:,2] = (image[...,2])/255 #normalise and feed in the image\n",
    "                \n",
    "                batch_labels[folder, int(folder_shuffle[folder + (num_batches*batch_size)].strip().split(';')[2])] = 1\n",
    "\n",
    "            yield batch_data, batch_labels #you yield the batch_data and the batch_labels, remember what does yield do\n"
   ]
  },
  {
   "cell_type": "markdown",
   "metadata": {},
   "source": [
    "Note here that a video is represented above in the generator as (number of images, height, width, number of channels). Take this into consideration while creating the model architecture."
   ]
  },
  {
   "cell_type": "markdown",
   "metadata": {},
   "source": [
    "## Model\n",
    "Here you make the model using different functionalities that Keras provides. Remember to use `Conv3D` and `MaxPooling3D` and not `Conv2D` and `Maxpooling2D` for a 3D convolution model. You would want to use `TimeDistributed` while building a Conv2D + RNN model. Also remember that the last layer is the softmax. Design the network in such a way that the model is able to give good accuracy on the least number of parameters so that it can fit in the memory of the webcam."
   ]
  },
  {
   "cell_type": "code",
   "execution_count": 23,
   "metadata": {},
   "outputs": [],
   "source": [
    "def verify_layer_details(num_layers, filters, is_dense=False):\n",
    "    if is_dense:\n",
    "        return num_layers == len(filters)\n",
    "    else:\n",
    "        return num_layers == len(filters)-1\n",
    "\n",
    "\n",
    "def build_conv3D_model(num_hidden_layers=default_hidden_layer_count, conv3d_filters=default_conv3d_filters,\n",
    "                       kernel_size=default_kernel_size, strides=default_stride,\n",
    "                       num_dense_layers=default_dense_layer_count, dense_layer_filters=default_dense_filters,\n",
    "                       dropout_val = default_dropout_value, num_images_per_video=default_num_images,\n",
    "                       image_height=default_image_height, image_width=default_image_width, learning_rate = default_learning_rate):\n",
    "    model = Sequential()\n",
    "    \n",
    "    is_valid_layer_details = verify_layer_details(num_hidden_layers, conv3d_filters)\n",
    "    is_valid_dense_layer_details = verify_layer_details(num_dense_layers, dense_layer_filters, is_dense=True)\n",
    "    \n",
    "    print(\"Layer:{} --- Dense:{}\".format(is_valid_layer_details, is_valid_dense_layer_details))\n",
    "    \n",
    "    # Input layer\n",
    "    model.add(Conv3D(conv3d_filters[0], kernel_size, padding=default_padding_type,\n",
    "                     input_shape=(num_images_per_video, image_height, image_width, default_channel_value)))\n",
    "    model.add(Activation(default_layer_activation_func))\n",
    "    model.add(BatchNormalization())\n",
    "    model.add(MaxPooling3D(pool_size=default_pool_size))\n",
    "\n",
    "    # Build hidden layers\n",
    "    for x in range(num_hidden_layers):\n",
    "        model.add(Conv3D(conv3d_filters[x+1], kernel_size, padding=default_padding_type))\n",
    "        model.add(Activation(default_layer_activation_func))\n",
    "        model.add(BatchNormalization())\n",
    "        model.add(MaxPooling3D(pool_size=default_pool_size))\n",
    "    \n",
    "    model.add(Flatten())\n",
    "                  \n",
    "    # Build dense layers\n",
    "    for x in range(num_dense_layers):\n",
    "        model.add(Dense(dense_layer_filters[x]))\n",
    "        model.add(Activation(default_layer_activation_func))\n",
    "        model.add(BatchNormalization())\n",
    "        model.add(Dropout(dropout_val))\n",
    "\n",
    "    model.add(Dense(num_classes))\n",
    "    model.add(Activation(default_output_layer_activation_func))\n",
    "\n",
    "    # Now that you have written the model, the next step is to `compile` the model. \n",
    "    opt = tf.keras.optimizers.Adam(learning_rate=learning_rate)\n",
    "    model.compile(opt, loss='categorical_crossentropy', metrics=['categorical_accuracy'])    \n",
    "    \n",
    "    return model"
   ]
  },
  {
   "cell_type": "markdown",
   "metadata": {},
   "source": [
    "When you print the `summary` of the model, you'll see the total number of parameters you have to train."
   ]
  },
  {
   "cell_type": "markdown",
   "metadata": {},
   "source": [
    "## <center>Model-25: Model-23 with GRU cell size as 64 and drop-out value 0.5</center>\n",
    "\n",
    "| Hidden Layer Count | CONV2D Filter | Kernel Size | Stride | Dense layer Count | Dense Layer Filter | Dropout Value | Frames per Video considered | Image Height | Image Width | Padding | Epochs | Batch Size | Augmentation | Optimizer | Loss | Metric | Learning Rate |\n",
    "| --- | --- | --- |  --- | --- | --- | --- | --- | --- | --- | --- | --- | --- | --- | --- | --- | --- | --- |\n",
    "| 1 | (64) | - | 1 | 1 | 64 | 0.5 | 20 | 120 | 120 | same | 20 | 20 | False | Adam | categorical_crossentropy | categorical_accuracy | 0.001"
   ]
  },
  {
   "cell_type": "code",
   "execution_count": 100,
   "metadata": {},
   "outputs": [
    {
     "name": "stdout",
     "output_type": "stream",
     "text": [
      "WARNING:tensorflow:`input_shape` is undefined or non-square, or `rows` is not in [128, 160, 192, 224]. Weights for input shape (224, 224) will be loaded as the default.\n"
     ]
    },
    {
     "name": "stderr",
     "output_type": "stream",
     "text": [
      "WARNING:tensorflow:`input_shape` is undefined or non-square, or `rows` is not in [128, 160, 192, 224]. Weights for input shape (224, 224) will be loaded as the default.\n"
     ]
    }
   ],
   "source": [
    "mobilenet_transfer = mobilenet.MobileNet(weights=\"imagenet\", include_top=False)\n",
    "\n",
    "class RNNCNN_MobileNet_GRU_All_Wts():\n",
    "    \n",
    "    def define_model(self,gru_cells=default_rnn_cell_count, \n",
    "                     dense_neurons=default_dense_neuron_count, \n",
    "                     dropout=0.25):\n",
    "        \n",
    "        model = Sequential()\n",
    "        model.add(TimeDistributed(mobilenet_transfer,input_shape=(default_num_images, default_image_height, default_image_width, default_channel_value)))\n",
    " \n",
    "        \n",
    "        model.add(TimeDistributed(BatchNormalization()))\n",
    "        model.add(TimeDistributed(MaxPooling2D((2, 2))))\n",
    "        model.add(TimeDistributed(Flatten()))\n",
    "\n",
    "        model.add(GRU(gru_cells))\n",
    "        model.add(Dropout(dropout))\n",
    "        \n",
    "        model.add(Dense(dense_neurons,activation='relu'))\n",
    "        model.add(Dropout(dropout))\n",
    "        \n",
    "        model.add(Dense(num_classes, activation='softmax'))\n",
    "        \n",
    "        \n",
    "        optimiser = tf.keras.optimizers.Adam()\n",
    "        model.compile(optimizer=optimiser, loss='categorical_crossentropy', metrics=['categorical_accuracy'])\n",
    "        return model"
   ]
  },
  {
   "cell_type": "code",
   "execution_count": 101,
   "metadata": {},
   "outputs": [
    {
     "name": "stdout",
     "output_type": "stream",
     "text": [
      "WARNING:tensorflow:`period` argument is deprecated. Please use `save_freq` to specify the frequency in number of batches seen.\n"
     ]
    },
    {
     "name": "stderr",
     "output_type": "stream",
     "text": [
      "WARNING:tensorflow:`period` argument is deprecated. Please use `save_freq` to specify the frequency in number of batches seen.\n"
     ]
    }
   ],
   "source": [
    "model_name = \"Model-25\"\n",
    "\n",
    "callback_list = initialise_model_callbacks(model_name)\n",
    "\n",
    "steps_per_epoch, validation_steps = calculate_steps(batch_size=20)\n",
    "\n",
    "train_generator = generate(batch_size=20, image_height=120, image_width=120)\n",
    "\n",
    "val_generator   = generate(batch_size=20, image_height=120, image_width=120, is_validation=True)"
   ]
  },
  {
   "cell_type": "code",
   "execution_count": 102,
   "metadata": {},
   "outputs": [
    {
     "name": "stderr",
     "output_type": "stream",
     "text": [
      "WARNING:absl:At this time, the v2.11+ optimizer `tf.keras.optimizers.Adam` runs slowly on M1/M2 Macs, please use the legacy Keras optimizer instead, located at `tf.keras.optimizers.legacy.Adam`.\n"
     ]
    },
    {
     "name": "stdout",
     "output_type": "stream",
     "text": [
      "Model: \"sequential_27\"\n",
      "_________________________________________________________________\n",
      " Layer (type)                Output Shape              Param #   \n",
      "=================================================================\n",
      " time_distributed_29 (TimeD  (None, 20, 3, 3, 1024)    3228864   \n",
      " istributed)                                                     \n",
      "                                                                 \n",
      " time_distributed_30 (TimeD  (None, 20, 3, 3, 1024)    4096      \n",
      " istributed)                                                     \n",
      "                                                                 \n",
      " time_distributed_31 (TimeD  (None, 20, 1, 1, 1024)    0         \n",
      " istributed)                                                     \n",
      "                                                                 \n",
      " time_distributed_32 (TimeD  (None, 20, 1024)          0         \n",
      " istributed)                                                     \n",
      "                                                                 \n",
      " gru_3 (GRU)                 (None, 64)                209280    \n",
      "                                                                 \n",
      " dropout_49 (Dropout)        (None, 64)                0         \n",
      "                                                                 \n",
      " dense_74 (Dense)            (None, 64)                4160      \n",
      "                                                                 \n",
      " dropout_50 (Dropout)        (None, 64)                0         \n",
      "                                                                 \n",
      " dense_75 (Dense)            (None, 5)                 325       \n",
      "                                                                 \n",
      "=================================================================\n",
      "Total params: 3446725 (13.15 MB)\n",
      "Trainable params: 3422789 (13.06 MB)\n",
      "Non-trainable params: 23936 (93.50 KB)\n",
      "_________________________________________________________________\n"
     ]
    }
   ],
   "source": [
    "model_25=RNNCNN_MobileNet_GRU_All_Wts()\n",
    "model_25=model_25.define_model(dropout=0.5)\n",
    "model_25.summary()"
   ]
  },
  {
   "cell_type": "markdown",
   "metadata": {},
   "source": [
    "### Model-25 layer representation"
   ]
  },
  {
   "cell_type": "code",
   "execution_count": 103,
   "metadata": {},
   "outputs": [
    {
     "data": {
      "image/png": "[encoded data removed]",
      "text/plain": [
       "<IPython.core.display.Image object>"
      ]
     },
     "execution_count": 103,
     "metadata": {},
     "output_type": "execute_result"
    }
   ],
   "source": [
    "plot_model(model_25, to_file=model_name+\".png\", show_shapes=True, show_layer_names=True, show_layer_activations=True, show_trainable=True)"
   ]
  },
  {
   "cell_type": "code",
   "execution_count": 104,
   "metadata": {},
   "outputs": [
    {
     "name": "stdout",
     "output_type": "stream",
     "text": [
      "Epoch 1/20\n",
      "34/34 [==============================] - ETA: 0s - loss: 1.6285 - categorical_accuracy: 0.3514\n",
      "Epoch 00001: saving model to Model-25_2024-01-0721_06_33.138633/model-00001-1.62847-0.35143-1.01678-0.77000.h5\n",
      "34/34 [==============================] - 133s 4s/step - loss: 1.6285 - categorical_accuracy: 0.3514 - val_loss: 1.0168 - val_categorical_accuracy: 0.7700 - lr: 0.0010\n",
      "Epoch 2/20\n",
      "34/34 [==============================] - ETA: 0s - loss: 0.9564 - categorical_accuracy: 0.6440\n",
      "Epoch 00002: saving model to Model-25_2024-01-0721_06_33.138633/model-00002-0.95639-0.64404-0.57783-0.83000.h5\n",
      "34/34 [==============================] - 127s 4s/step - loss: 0.9564 - categorical_accuracy: 0.6440 - val_loss: 0.5778 - val_categorical_accuracy: 0.8300 - lr: 0.0010\n",
      "Epoch 3/20\n",
      "34/34 [==============================] - ETA: 0s - loss: 0.5725 - categorical_accuracy: 0.7903\n",
      "Epoch 00003: saving model to Model-25_2024-01-0721_06_33.138633/model-00003-0.57247-0.79035-0.37962-0.88000.h5\n",
      "34/34 [==============================] - 128s 4s/step - loss: 0.5725 - categorical_accuracy: 0.7903 - val_loss: 0.3796 - val_categorical_accuracy: 0.8800 - lr: 0.0010\n",
      "Epoch 4/20\n",
      "34/34 [==============================] - ETA: 0s - loss: 0.3124 - categorical_accuracy: 0.9050\n",
      "Epoch 00004: saving model to Model-25_2024-01-0721_06_33.138633/model-00004-0.31244-0.90498-0.23540-0.89000.h5\n",
      "34/34 [==============================] - 128s 4s/step - loss: 0.3124 - categorical_accuracy: 0.9050 - val_loss: 0.2354 - val_categorical_accuracy: 0.8900 - lr: 0.0010\n",
      "Epoch 5/20\n",
      "34/34 [==============================] - ETA: 0s - loss: 0.2705 - categorical_accuracy: 0.9261\n",
      "Epoch 00005: saving model to Model-25_2024-01-0721_06_33.138633/model-00005-0.27049-0.92609-0.21470-0.91000.h5\n",
      "34/34 [==============================] - 125s 4s/step - loss: 0.2705 - categorical_accuracy: 0.9261 - val_loss: 0.2147 - val_categorical_accuracy: 0.9100 - lr: 0.0010\n",
      "Epoch 6/20\n",
      "34/34 [==============================] - ETA: 0s - loss: 0.2581 - categorical_accuracy: 0.9291\n",
      "Epoch 00006: saving model to Model-25_2024-01-0721_06_33.138633/model-00006-0.25814-0.92911-0.33332-0.87000.h5\n",
      "34/34 [==============================] - 128s 4s/step - loss: 0.2581 - categorical_accuracy: 0.9291 - val_loss: 0.3333 - val_categorical_accuracy: 0.8700 - lr: 0.0010\n",
      "Epoch 7/20\n",
      "34/34 [==============================] - ETA: 0s - loss: 0.2900 - categorical_accuracy: 0.9140\n",
      "Epoch 00007: saving model to Model-25_2024-01-0721_06_33.138633/model-00007-0.29002-0.91403-0.34963-0.90000.h5\n",
      "34/34 [==============================] - 127s 4s/step - loss: 0.2900 - categorical_accuracy: 0.9140 - val_loss: 0.3496 - val_categorical_accuracy: 0.9000 - lr: 0.0010\n",
      "Epoch 8/20\n",
      "34/34 [==============================] - ETA: 0s - loss: 0.3178 - categorical_accuracy: 0.9125\n",
      "Epoch 00008: saving model to Model-25_2024-01-0721_06_33.138633/model-00008-0.31784-0.91252-0.21000-0.92000.h5\n",
      "34/34 [==============================] - 126s 4s/step - loss: 0.3178 - categorical_accuracy: 0.9125 - val_loss: 0.2100 - val_categorical_accuracy: 0.9200 - lr: 0.0010\n",
      "Epoch 9/20\n",
      "34/34 [==============================] - ETA: 0s - loss: 0.3141 - categorical_accuracy: 0.9125\n",
      "Epoch 00009: saving model to Model-25_2024-01-0721_06_33.138633/model-00009-0.31409-0.91252-0.39793-0.91000.h5\n",
      "34/34 [==============================] - 127s 4s/step - loss: 0.3141 - categorical_accuracy: 0.9125 - val_loss: 0.3979 - val_categorical_accuracy: 0.9100 - lr: 0.0010\n",
      "Epoch 10/20\n",
      "34/34 [==============================] - ETA: 0s - loss: 0.1735 - categorical_accuracy: 0.9487\n",
      "Epoch 00010: saving model to Model-25_2024-01-0721_06_33.138633/model-00010-0.17350-0.94872-0.23549-0.95000.h5\n",
      "34/34 [==============================] - 127s 4s/step - loss: 0.1735 - categorical_accuracy: 0.9487 - val_loss: 0.2355 - val_categorical_accuracy: 0.9500 - lr: 0.0010\n",
      "Epoch 11/20\n",
      "34/34 [==============================] - ETA: 0s - loss: 0.1494 - categorical_accuracy: 0.9668\n",
      "Epoch 00011: saving model to Model-25_2024-01-0721_06_33.138633/model-00011-0.14943-0.96682-0.38566-0.89000.h5\n",
      "34/34 [==============================] - 127s 4s/step - loss: 0.1494 - categorical_accuracy: 0.9668 - val_loss: 0.3857 - val_categorical_accuracy: 0.8900 - lr: 0.0010\n",
      "Epoch 12/20\n",
      "34/34 [==============================] - ETA: 0s - loss: 0.1271 - categorical_accuracy: 0.9683\n",
      "Epoch 00012: saving model to Model-25_2024-01-0721_06_33.138633/model-00012-0.12710-0.96833-0.31419-0.91000.h5\n",
      "34/34 [==============================] - 126s 4s/step - loss: 0.1271 - categorical_accuracy: 0.9683 - val_loss: 0.3142 - val_categorical_accuracy: 0.9100 - lr: 0.0010\n",
      "Epoch 13/20\n",
      "34/34 [==============================] - ETA: 0s - loss: 0.1074 - categorical_accuracy: 0.9774\n",
      "Epoch 00013: saving model to Model-25_2024-01-0721_06_33.138633/model-00013-0.10737-0.97738-0.22578-0.91000.h5\n",
      "34/34 [==============================] - 126s 4s/step - loss: 0.1074 - categorical_accuracy: 0.9774 - val_loss: 0.2258 - val_categorical_accuracy: 0.9100 - lr: 0.0010\n",
      "Epoch 14/20\n",
      "34/34 [==============================] - ETA: 0s - loss: 0.0730 - categorical_accuracy: 0.9849\n",
      "Epoch 00014: saving model to Model-25_2024-01-0721_06_33.138633/model-00014-0.07299-0.98492-0.15542-0.97000.h5\n",
      "34/34 [==============================] - 125s 4s/step - loss: 0.0730 - categorical_accuracy: 0.9849 - val_loss: 0.1554 - val_categorical_accuracy: 0.9700 - lr: 0.0010\n",
      "Epoch 15/20\n",
      "34/34 [==============================] - ETA: 0s - loss: 0.1010 - categorical_accuracy: 0.9774\n",
      "Epoch 00015: saving model to Model-25_2024-01-0721_06_33.138633/model-00015-0.10105-0.97738-0.19668-0.96000.h5\n",
      "34/34 [==============================] - 125s 4s/step - loss: 0.1010 - categorical_accuracy: 0.9774 - val_loss: 0.1967 - val_categorical_accuracy: 0.9600 - lr: 0.0010\n",
      "Epoch 16/20\n",
      "34/34 [==============================] - ETA: 0s - loss: 0.0605 - categorical_accuracy: 0.9849\n",
      "Epoch 00016: saving model to Model-25_2024-01-0721_06_33.138633/model-00016-0.06047-0.98492-0.19135-0.96000.h5\n",
      "34/34 [==============================] - 127s 4s/step - loss: 0.0605 - categorical_accuracy: 0.9849 - val_loss: 0.1914 - val_categorical_accuracy: 0.9600 - lr: 0.0010\n",
      "Epoch 17/20\n",
      "34/34 [==============================] - ETA: 0s - loss: 0.0730 - categorical_accuracy: 0.9819\n",
      "Epoch 00017: saving model to Model-25_2024-01-0721_06_33.138633/model-00017-0.07296-0.98190-0.09279-0.98000.h5\n",
      "34/34 [==============================] - 127s 4s/step - loss: 0.0730 - categorical_accuracy: 0.9819 - val_loss: 0.0928 - val_categorical_accuracy: 0.9800 - lr: 0.0010\n",
      "Epoch 18/20\n",
      "34/34 [==============================] - ETA: 0s - loss: 0.0861 - categorical_accuracy: 0.9789\n",
      "Epoch 00018: saving model to Model-25_2024-01-0721_06_33.138633/model-00018-0.08607-0.97888-0.40141-0.95000.h5\n",
      "34/34 [==============================] - 127s 4s/step - loss: 0.0861 - categorical_accuracy: 0.9789 - val_loss: 0.4014 - val_categorical_accuracy: 0.9500 - lr: 0.0010\n",
      "Epoch 19/20\n",
      "34/34 [==============================] - ETA: 0s - loss: 0.0775 - categorical_accuracy: 0.9894\n",
      "Epoch 00019: saving model to Model-25_2024-01-0721_06_33.138633/model-00019-0.07749-0.98944-0.04386-0.99000.h5\n",
      "34/34 [==============================] - 126s 4s/step - loss: 0.0775 - categorical_accuracy: 0.9894 - val_loss: 0.0439 - val_categorical_accuracy: 0.9900 - lr: 0.0010\n",
      "Epoch 20/20\n",
      "34/34 [==============================] - ETA: 0s - loss: 0.0294 - categorical_accuracy: 0.9955\n",
      "Epoch 00020: saving model to Model-25_2024-01-0721_06_33.138633/model-00020-0.02944-0.99548-0.24617-0.94000.h5\n",
      "34/34 [==============================] - 125s 4s/step - loss: 0.0294 - categorical_accuracy: 0.9955 - val_loss: 0.2462 - val_categorical_accuracy: 0.9400 - lr: 0.0010\n"
     ]
    }
   ],
   "source": [
    "history = model_25.fit_generator(train_generator, steps_per_epoch=steps_per_epoch, epochs=20, verbose=1, \n",
    "                             callbacks=callback_list, validation_data=val_generator, \n",
    "                             validation_steps=validation_steps, class_weight=None, workers=1, initial_epoch=0)"
   ]
  },
  {
   "cell_type": "code",
   "execution_count": 105,
   "metadata": {},
   "outputs": [
    {
     "data": {
      "image/png": "[encoded data removed]",
      "text/plain": [
       "<Figure size 432x288 with 1 Axes>"
      ]
     },
     "metadata": {
      "needs_background": "light"
     },
     "output_type": "display_data"
    },
    {
     "data": {
      "image/png": "[encoded data removed]",
      "text/plain": [
       "<Figure size 432x288 with 1 Axes>"
      ]
     },
     "metadata": {
      "needs_background": "light"
     },
     "output_type": "display_data"
    }
   ],
   "source": [
    "plot_model_accuracy(model_name, history)\n",
    "plot_model_loss(model_name, history)"
   ]
  },
  {
   "cell_type": "code",
   "execution_count": 106,
   "metadata": {},
   "outputs": [],
   "source": [
    "# Fetch statistics for populating model statistics workbook\n",
    "total_params = model_25.count_params()\n",
    "trainable_params = np.sum([K.count_params(w) for w in model_25.trainable_weights])\n",
    "non_trainable_params = np.sum([K.count_params(w) for w in model_25.non_trainable_weights])\n",
    "\n",
    "best_model_loss = min(history.history[\"loss\"])\n",
    "index_best_model_loss = history.history[\"loss\"].index(best_model_loss)\n",
    "best_model_cat_acc = history.history[\"categorical_accuracy\"][index_best_model_loss]\n",
    "best_model_val_cat_acc = history.history[\"val_categorical_accuracy\"][index_best_model_loss]\n",
    "best_model_val_loss = history.history[\"val_loss\"][index_best_model_loss]"
   ]
  },
  {
   "cell_type": "code",
   "execution_count": 107,
   "metadata": {},
   "outputs": [],
   "source": [
    "write_model_details_worksheet(model_name, \"Model-23 with GRU cell size as 64 and drop-out value 0.5\",\n",
    "                              total_params, trainable_params, non_trainable_params, best_model_cat_acc,\n",
    "                             best_model_val_cat_acc, best_model_loss, best_model_val_loss, \"-\", 20,\n",
    "                             120, 120, 20, 20, \"Adam\", False, 0.001)"
   ]
  },
  {
   "cell_type": "code",
   "execution_count": 104,
   "metadata": {},
   "outputs": [],
   "source": [
    "# print_worksheet_full()"
   ]
  }
 ],
 "metadata": {
  "kernelspec": {
   "display_name": "Python 3 (ipykernel)",
   "language": "python",
   "name": "python3"
  },
  "language_info": {
   "codemirror_mode": {
    "name": "ipython",
    "version": 3
   },
   "file_extension": ".py",
   "mimetype": "text/x-python",
   "name": "python",
   "nbconvert_exporter": "python",
   "pygments_lexer": "ipython3",
   "version": "3.11.5"
  }
 },
 "nbformat": 4,
 "nbformat_minor": 4
}
